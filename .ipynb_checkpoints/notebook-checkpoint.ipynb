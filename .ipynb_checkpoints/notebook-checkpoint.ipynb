{
 "cells": [
  {
   "cell_type": "markdown",
   "id": "937acf3c-c077-4ca6-8d90-8f6dd4d13c54",
   "metadata": {},
   "source": [
    "![Movie popcorn on red background](redpopcorn.jpg)"
   ]
  },
  {
   "cell_type": "markdown",
   "id": "5962b2cd-17bb-4ec9-b2d5-68537ca26860",
   "metadata": {},
   "source": [
    "# Investigating Netflix movies\n",
    "\n",
    "**Netflix**! What started in 1997 as a DVD rental service has since exploded into one of the largest entertainment and media companies.\n",
    "\n",
    "Given the large number of movies and series available on the platform, it is a perfect opportunity to flex your exploratory data analysis skills and dive into the entertainment industry. Our friend has also been brushing up on their Python skills and has taken a first crack at a CSV file containing Netflix data. They believe that the average duration of movies has been declining. Using your friends initial research, you'll delve into the Netflix data to see if you can determine whether movie lengths are actually getting shorter and explain some of the contributing factors, if any.\n",
    "\n",
    "You have been supplied with the dataset `netflix_data.csv` , along with the following table detailing the column names and descriptions. This data does contain null values and some outliers, but handling these is out of scope for the project. Feel free to experiment after submitting!\n",
    "\n",
    "## The data\n",
    "### **netflix_data.csv**\n",
    "| Column | Description |\n",
    "|--------|-------------|\n",
    "| `show_id` | The ID of the show |\n",
    "| `type` | Type of show |\n",
    "| `title` | Title of the show |\n",
    "| `director` | Director of the show |\n",
    "| `cast` | Cast of the show |\n",
    "| `country` | Country of origin |\n",
    "| `date_added` | Date added to Netflix |\n",
    "| `release_year` | Year of Netflix release |\n",
    "| `duration` | Duration of the show in minutes |\n",
    "| `description` | Description of the show |\n",
    "| `genre` | Show genre |"
   ]
  },
  {
   "cell_type": "code",
   "id": "320a3abc-8a36-4b2b-baaf-473325363a4d",
   "metadata": {
    "executionCancelledAt": null,
    "executionTime": 11,
    "lastExecutedAt": 1714042427104,
    "lastExecutedByKernel": "6f8cecb6-970b-4a2c-a1bc-32113fe364ad",
    "lastScheduledRunId": null,
    "lastSuccessfullyExecutedCode": "# Importing pandas and matplotlib\nimport pandas as pd\nimport matplotlib.pyplot as plt\n\n# Start coding!",
    "jupyter": {
     "is_executing": true
    },
    "ExecuteTime": {
     "start_time": "2024-09-10T11:52:20.315247Z"
    }
   },
   "source": [
    "# Importing pandas and matplotlib\n",
    "import pandas as pd\n",
    "import matplotlib.pyplot as plt\n",
    "\n",
    "# Start coding!"
   ],
   "outputs": [],
   "execution_count": null
  },
  {
   "cell_type": "markdown",
   "id": "72c7d7c5-0d09-4a95-b9d1-50a88b26b442",
   "metadata": {},
   "source": [
    "## Netflix movies\n",
    "\n",
    "First, we will import the csv file as a *pandas dataframe* and then we will filter out TV Shows to only keep the movies."
   ]
  },
  {
   "cell_type": "code",
   "id": "a23de6fa-1679-47e5-85d3-a1a6baae9f9d",
   "metadata": {
    "collapsed": false,
    "executionCancelledAt": null,
    "executionTime": 62,
    "lastExecutedAt": 1714042427166,
    "lastExecutedByKernel": "6f8cecb6-970b-4a2c-a1bc-32113fe364ad",
    "lastScheduledRunId": null,
    "lastSuccessfullyExecutedCode": "netflix_df = pd.read_csv('netflix_data.csv')\nprint(netflix_df)",
    "outputsMetadata": {
     "0": {
      "height": 311,
      "type": "stream"
     }
    },
    "jupyter": {
     "is_executing": true
    }
   },
   "source": [
    "netflix_df = pd.read_csv('netflix_data.csv')\n",
    "print(netflix_df)"
   ],
   "outputs": [],
   "execution_count": null
  },
  {
   "cell_type": "code",
   "id": "e8ae6da9-b08c-4eae-8ef1-b075e9010b67",
   "metadata": {
    "executionCancelledAt": null,
    "executionTime": 52,
    "lastExecutedAt": 1714042427218,
    "lastExecutedByKernel": "6f8cecb6-970b-4a2c-a1bc-32113fe364ad",
    "lastScheduledRunId": null,
    "lastSuccessfullyExecutedCode": "# Filtering out TV Shows\nnetflix_subset = netflix_df.loc[netflix_df['type'] != 'TV Show']\nprint(netflix_subset)",
    "outputsMetadata": {
     "0": {
      "height": 311,
      "type": "stream"
     }
    },
    "jupyter": {
     "is_executing": true
    }
   },
   "source": [
    "# Filtering out TV Shows\n",
    "netflix_subset = netflix_df.loc[netflix_df['type'] != 'TV Show']\n",
    "print(netflix_subset)"
   ],
   "outputs": [],
   "execution_count": null
  },
  {
   "cell_type": "code",
   "id": "7f77a2f0-4184-4544-9aa6-1654878045af",
   "metadata": {
    "executionCancelledAt": null,
    "executionTime": 55,
    "lastExecutedAt": 1714042427273,
    "lastExecutedByKernel": "6f8cecb6-970b-4a2c-a1bc-32113fe364ad",
    "lastScheduledRunId": null,
    "lastSuccessfullyExecutedCode": "# Keeping only the title, country, genre, release year and duration\nnetflix_movies = netflix_subset[['title', 'country', 'genre', 'release_year', 'duration']]\nprint(netflix_movies)",
    "outputsMetadata": {
     "0": {
      "height": 311,
      "type": "stream"
     }
    },
    "jupyter": {
     "is_executing": true
    }
   },
   "source": [
    "# Keeping only the title, country, genre, release year and duration\n",
    "netflix_movies = netflix_subset[['title', 'country', 'genre', 'release_year', 'duration']]\n",
    "print(netflix_movies)"
   ],
   "outputs": [],
   "execution_count": null
  },
  {
   "cell_type": "markdown",
   "id": "5e263a81-df65-418f-8eea-7297a5c7feae",
   "metadata": {},
   "source": [
    "## Short movies"
   ]
  },
  {
   "cell_type": "code",
   "id": "71370f13-f1cc-4a85-b3f3-fea7806ce6ca",
   "metadata": {
    "executionCancelledAt": null,
    "executionTime": 65,
    "lastExecutedAt": 1714042427338,
    "lastExecutedByKernel": "6f8cecb6-970b-4a2c-a1bc-32113fe364ad",
    "lastScheduledRunId": null,
    "lastSuccessfullyExecutedCode": "# Filtering out movies longer than 59 minutes\nshort_movies = netflix_movies.loc[netflix_movies['duration'] < 60]\nprint(short_movies)",
    "outputsMetadata": {
     "0": {
      "height": 311,
      "type": "stream"
     }
    },
    "jupyter": {
     "is_executing": true
    }
   },
   "source": [
    "# Filtering out movies longer than 59 minutes\n",
    "short_movies = netflix_movies.loc[netflix_movies['duration'] < 60]\n",
    "print(short_movies)"
   ],
   "outputs": [],
   "execution_count": null
  },
  {
   "cell_type": "code",
   "id": "e4118c89-38b7-4ed7-a233-aeeb31c0477f",
   "metadata": {
    "executionCancelledAt": null,
    "executionTime": 291,
    "lastExecutedAt": 1714042427629,
    "lastExecutedByKernel": "6f8cecb6-970b-4a2c-a1bc-32113fe364ad",
    "lastScheduledRunId": null,
    "lastSuccessfullyExecutedCode": "# Counting the number of short movies per genre\ngenre_counts = short_movies['genre'].value_counts()\n\n# Creating the bar plot using plt.bar()\nplt.figure(figsize=(10, 4))\nplt.bar(genre_counts.index, genre_counts.values)\nplt.title('Number of Short Movies per Genre')\nplt.xlabel('Genre')\nplt.ylabel('Number of Movies')\nplt.xticks(rotation=45, size=8)\nplt.show()",
    "jupyter": {
     "is_executing": true
    }
   },
   "source": [
    "# Counting the number of short movies per genre\n",
    "genre_counts = short_movies['genre'].value_counts()\n",
    "\n",
    "# Creating the bar plot using plt.bar()\n",
    "plt.figure(figsize=(10, 4))\n",
    "plt.bar(genre_counts.index, genre_counts.values)\n",
    "plt.title('Number of Short Movies per Genre')\n",
    "plt.xlabel('Genre')\n",
    "plt.ylabel('Number of Movies')\n",
    "plt.xticks(rotation=45, size=8)\n",
    "plt.show()"
   ],
   "outputs": [],
   "execution_count": null
  },
  {
   "cell_type": "markdown",
   "id": "1126e584-510f-429c-af2a-4e7bdb678be3",
   "metadata": {},
   "source": [
    "From the above data, we can observe that short movies are mostly concentrated in 3 genres : Documentaries, Children and Stand-Up. Ignoring the Uncategorized category, other genres all have less than 20 short movies."
   ]
  },
  {
   "cell_type": "code",
   "id": "43ef6120-7b0f-4d58-81db-19b1e9d18130",
   "metadata": {
    "executionCancelledAt": null,
    "executionTime": 269,
    "lastExecutedAt": 1714042427898,
    "lastExecutedByKernel": "6f8cecb6-970b-4a2c-a1bc-32113fe364ad",
    "lastScheduledRunId": null,
    "lastSuccessfullyExecutedCode": "# Counting the number of short movies per genre\nyear_counts = short_movies['release_year'].value_counts()\n\n# Creating the bar plot using plt.bar()\nplt.figure(figsize=(10, 4))\nplt.bar(year_counts.index, year_counts.values)\nplt.title('Number of Short Movies per Year')\nplt.xlabel('Release Year')\nplt.ylabel('Number of Movies')\nplt.show()",
    "jupyter": {
     "is_executing": true
    }
   },
   "source": [
    "# Counting the number of short movies per genre\n",
    "year_counts = short_movies['release_year'].value_counts()\n",
    "\n",
    "# Creating the bar plot using plt.bar()\n",
    "plt.figure(figsize=(10, 4))\n",
    "plt.bar(year_counts.index, year_counts.values)\n",
    "plt.title('Number of Short Movies per Year')\n",
    "plt.xlabel('Release Year')\n",
    "plt.ylabel('Number of Movies')\n",
    "plt.show()"
   ],
   "outputs": [],
   "execution_count": null
  },
  {
   "cell_type": "markdown",
   "id": "a46b97cd-71b6-4206-b9b8-24c5631bd7c9",
   "metadata": {},
   "source": [
    "The above plot shows that there a lot more short_movies nowadays (starting from around 2008) than thre used to be. We can observe what seems to be an exponential growth in short movies being released from 2010 to 2020. This may say two things : movies are getting shorter, or more documentaries, stand-ups and children movies are being released than before. Our data set here is only limited to short movies. We cannot say that movies are getting shorter as we can assume that there are just more movies being released on Netflix every year, and that these movies are recent. To conclude on whether or not movies are getting shorter, we must compare the count of short movies proportionally to the count of all movies."
   ]
  },
  {
   "cell_type": "code",
   "id": "775cf3e1-2424-4a97-8b01-9ea7f34f277f",
   "metadata": {
    "executionCancelledAt": null,
    "executionTime": 296,
    "lastExecutedAt": 1714042428194,
    "lastExecutedByKernel": "6f8cecb6-970b-4a2c-a1bc-32113fe364ad",
    "lastScheduledRunId": null,
    "lastSuccessfullyExecutedCode": "# Counting the number of short movies per genre\nyear_counts = netflix_movies['release_year'].value_counts()\n\n# Creating the bar plot using plt.bar()\nplt.figure(figsize=(10, 4))\nplt.bar(year_counts.index, year_counts.values)\nplt.title('Number of Movies per Year')\nplt.xlabel('Release Year')\nplt.ylabel('Number of Movies')\nplt.show()",
    "jupyter": {
     "is_executing": true
    }
   },
   "source": [
    "# Counting the number of short movies per genre\n",
    "year_counts = netflix_movies['release_year'].value_counts()\n",
    "\n",
    "# Creating the bar plot using plt.bar()\n",
    "plt.figure(figsize=(10, 4))\n",
    "plt.bar(year_counts.index, year_counts.values)\n",
    "plt.title('Number of Movies per Year')\n",
    "plt.xlabel('Release Year')\n",
    "plt.ylabel('Number of Movies')\n",
    "plt.show()"
   ],
   "outputs": [],
   "execution_count": null
  },
  {
   "cell_type": "code",
   "id": "1f6696e2-ff2a-4dbd-b361-b08f3e37064e",
   "metadata": {
    "chartConfig": {
     "bar": {
      "hasRoundedCorners": true,
      "stacked": false
     },
     "title": "Release years of the movies on Netflix",
     "type": "bar",
     "version": "v1",
     "x": {
      "field": "release_year",
      "type": "integer"
     },
     "y": {
      "aggregate": "count",
      "field": "index",
      "type": "integer"
     }
    },
    "customType": "visualization",
    "dataFrameVariableName": "netflix_movies",
    "executionCancelledAt": null,
    "executionTime": 95,
    "lastExecutedAt": 1714042428289,
    "lastExecutedByKernel": "6f8cecb6-970b-4a2c-a1bc-32113fe364ad",
    "lastScheduledRunId": null,
    "lastSuccessfullyExecutedCode": "",
    "jupyter": {
     "is_executing": true
    }
   },
   "source": [],
   "outputs": [],
   "execution_count": null
  },
  {
   "cell_type": "markdown",
   "id": "ddc36dca-3c98-40d9-bd04-b79c961621e6",
   "metadata": {},
   "source": [
    "This interactive plot confirms that Netflix mostly has recent movies. It correlates with the previous short movies plot."
   ]
  },
  {
   "cell_type": "markdown",
   "id": "5ed7885e-cb58-4a46-b427-9b2395fbb2ac",
   "metadata": {},
   "source": [
    "## Release years per genre"
   ]
  },
  {
   "cell_type": "markdown",
   "id": "c205a30c-6cfc-46cb-a3f2-5ccc821551b1",
   "metadata": {},
   "source": [
    "### Adding colors to the genres"
   ]
  },
  {
   "cell_type": "code",
   "id": "a5e9c2df-ba67-483a-81ce-4907e6500703",
   "metadata": {
    "executionCancelledAt": null,
    "executionTime": 52,
    "lastExecutedAt": 1714042428341,
    "lastExecutedByKernel": "6f8cecb6-970b-4a2c-a1bc-32113fe364ad",
    "lastScheduledRunId": null,
    "lastSuccessfullyExecutedCode": "import matplotlib\ncolors = []\nzorders = []\n\n# Let's iterate through netflix_movies and assign a color to the genres\n\nfor genre in list(netflix_movies['genre']):\n    if genre == 'Documentaries':\n        colors.append('#1833AC')\n        zorders.append(2)\n    elif genre == 'Children':\n        colors.append('#FF2D33')\n        zorders.append(2)\n    elif genre == 'Stand-Up':\n        colors.append('#FFE502')\n        zorders.append(2)\n    else:\n        colors.append('#4C5566')\n        zorders.append(1)",
    "jupyter": {
     "is_executing": true
    }
   },
   "source": [
    "import matplotlib\n",
    "colors = []\n",
    "zorders = []\n",
    "\n",
    "# Let's iterate through netflix_movies and assign a color to the genres\n",
    "\n",
    "for genre in list(netflix_movies['genre']):\n",
    "    if genre == 'Documentaries':\n",
    "        colors.append('#1833AC')\n",
    "        zorders.append(2)\n",
    "    elif genre == 'Children':\n",
    "        colors.append('#FF2D33')\n",
    "        zorders.append(2)\n",
    "    elif genre == 'Stand-Up':\n",
    "        colors.append('#FFE502')\n",
    "        zorders.append(2)\n",
    "    else:\n",
    "        colors.append('#4C5566')\n",
    "        zorders.append(1)"
   ],
   "outputs": [],
   "execution_count": null
  },
  {
   "cell_type": "markdown",
   "id": "ab56c2ab-d06e-4cb8-a765-ddb7ab09271f",
   "metadata": {},
   "source": [
    "### Let's plot the results"
   ]
  },
  {
   "cell_type": "code",
   "id": "8bc19cbb-52af-42f4-beb3-101273db6ae8",
   "metadata": {
    "executionCancelledAt": null,
    "executionTime": 367,
    "lastExecutedAt": 1714042428709,
    "lastExecutedByKernel": "6f8cecb6-970b-4a2c-a1bc-32113fe364ad",
    "lastScheduledRunId": null,
    "lastSuccessfullyExecutedCode": "\nfig, ax = plt.subplots()\n\n# Create a scatter plot for movie duration by release year\n# Using the colors list to color the points\nax.scatter(netflix_movies['release_year'], netflix_movies['duration'], c=colors, alpha=0.5, s=20)\n\n# Setting the labels and title\nax.set_xlabel('Release year')\nax.set_ylabel('Duration (min)')\nax.set_title('Movie Duration by Year of Release')\n\nplt.show()",
    "jupyter": {
     "is_executing": true
    }
   },
   "source": [
    "\n",
    "fig, ax = plt.subplots()\n",
    "\n",
    "# Create a scatter plot for movie duration by release year\n",
    "# Using the colors list to color the points\n",
    "ax.scatter(netflix_movies['release_year'], netflix_movies['duration'], c=colors, alpha=0.5, s=20)\n",
    "\n",
    "# Setting the labels and title\n",
    "ax.set_xlabel('Release year')\n",
    "ax.set_ylabel('Duration (min)')\n",
    "ax.set_title('Movie Duration by Year of Release')\n",
    "\n",
    "plt.show()"
   ],
   "outputs": [],
   "execution_count": null
  },
  {
   "cell_type": "code",
   "id": "6fdb1055-1eb4-4851-9e8f-af390ab92358",
   "metadata": {
    "executionCancelledAt": null,
    "executionTime": 49,
    "lastExecutedAt": 1714042428758,
    "lastExecutedByKernel": "6f8cecb6-970b-4a2c-a1bc-32113fe364ad",
    "lastScheduledRunId": null,
    "lastSuccessfullyExecutedCode": "answer=\"no\"",
    "jupyter": {
     "is_executing": true
    }
   },
   "source": [
    "answer=\"no\""
   ],
   "outputs": [],
   "execution_count": null
  },
  {
   "cell_type": "markdown",
   "id": "9ccad38f-525d-47da-b267-ae2c64206e64",
   "metadata": {},
   "source": [
    "As we can see above, there are more documentaries, children movies and stand-up shows from 2010 to 2020 on Netflix than ones released before 2010, which can explain why previous plots could hint at movies getting shorter. We can also clearly see that movies as a whole are not getting shorter, there are just more movies than there used to be, at least according to Netflix' catalogue."
   ]
  }
 ],
 "metadata": {
  "colab": {
   "name": "Welcome to DataCamp Workspaces.ipynb",
   "provenance": []
  },
  "kernelspec": {
   "display_name": "Python 3 (ipykernel)",
   "language": "python",
   "name": "python3"
  },
  "language_info": {
   "codemirror_mode": {
    "name": "ipython",
    "version": 3
   },
   "file_extension": ".py",
   "mimetype": "text/x-python",
   "name": "python",
   "nbconvert_exporter": "python",
   "pygments_lexer": "ipython3",
   "version": "3.12.5"
  }
 },
 "nbformat": 4,
 "nbformat_minor": 5
}
